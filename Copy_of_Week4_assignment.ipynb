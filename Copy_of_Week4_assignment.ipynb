{
  "nbformat": 4,
  "nbformat_minor": 0,
  "metadata": {
    "colab": {
      "provenance": [],
      "authorship_tag": "ABX9TyOEXI7v0foDuPLM8SmdmaBc",
      "include_colab_link": true
    },
    "kernelspec": {
      "name": "python3",
      "display_name": "Python 3"
    },
    "language_info": {
      "name": "python"
    }
  },
  "cells": [
    {
      "cell_type": "markdown",
      "metadata": {
        "id": "view-in-github",
        "colab_type": "text"
      },
      "source": [
        "<a href=\"https://colab.research.google.com/github/Ushna39/My-assignment-3mmt/blob/main/Copy_of_Week4_assignment.ipynb\" target=\"_parent\"><img src=\"https://colab.research.google.com/assets/colab-badge.svg\" alt=\"Open In Colab\"/></a>"
      ]
    },
    {
      "cell_type": "markdown",
      "source": [
        "Q) Build a python program utilizing data structures,conditional statements and functions to solve a data related task"
      ],
      "metadata": {
        "id": "Sgk4P_RYH3gp"
      }
    },
    {
      "cell_type": "markdown",
      "source": [
        "1)Use of data structure"
      ],
      "metadata": {
        "id": "PxFwOtgpRown"
      }
    },
    {
      "cell_type": "markdown",
      "source": [
        "*Creating list with data"
      ],
      "metadata": {
        "id": "g3N_cdspJSXe"
      }
    },
    {
      "cell_type": "code",
      "execution_count": 17,
      "metadata": {
        "colab": {
          "base_uri": "https://localhost:8080/"
        },
        "id": "xUOhTeR8Glk6",
        "outputId": "be673831-b5f7-460c-d8f3-ed47af911cb8"
      },
      "outputs": [
        {
          "output_type": "stream",
          "name": "stdout",
          "text": [
            "[]\n",
            "['aisha', 'fatima', 'ushna', 'khaleefa', 'example']\n"
          ]
        }
      ],
      "source": [
        "\n",
        "\n",
        "my_list = []  # create empty list\n",
        "print(my_list)\n",
        "my_list = [\"aisha\", \"fatima\", \"ushna\", \"khaleefa\", \"example\"]  # creating list with data\n",
        "print(my_list)"
      ]
    },
    {
      "cell_type": "markdown",
      "source": [
        "*dictionaries"
      ],
      "metadata": {
        "id": "RItrKCaMUEj6"
      }
    },
    {
      "cell_type": "code",
      "source": [
        "my_dict = {} #empty dictionary\n",
        "print(my_dict)\n",
        "my_dict = {1: 'school', 2: 'market', 3: 'house',} #dictionary with elements\n",
        "print(my_dict)"
      ],
      "metadata": {
        "colab": {
          "base_uri": "https://localhost:8080/"
        },
        "id": "yzL9j4tWJ53v",
        "outputId": "d0589794-f408-4da7-f9ef-bb21953c194f"
      },
      "execution_count": 16,
      "outputs": [
        {
          "output_type": "stream",
          "name": "stdout",
          "text": [
            "{}\n",
            "{1: 'school', 2: 'market', 3: 'house'}\n"
          ]
        }
      ]
    },
    {
      "cell_type": "markdown",
      "source": [
        "*using tuple"
      ],
      "metadata": {
        "id": "uunxz9WDUPwg"
      }
    },
    {
      "cell_type": "code",
      "source": [
        "my_tuple = ('rukaiya,hauwa,maryam,salisu,fatima')#create tuple\n",
        "print(my_tuple)"
      ],
      "metadata": {
        "colab": {
          "base_uri": "https://localhost:8080/"
        },
        "id": "Q1C0DdopLl2G",
        "outputId": "f6d8d8e4-fd24-45aa-f6a5-178185a2ae55"
      },
      "execution_count": 15,
      "outputs": [
        {
          "output_type": "stream",
          "name": "stdout",
          "text": [
            "rukaiya,hauwa,maryam,salisu,fatima\n"
          ]
        }
      ]
    },
    {
      "cell_type": "markdown",
      "source": [
        "*Set"
      ],
      "metadata": {
        "id": "xKg30BV7LMvi"
      }
    },
    {
      "cell_type": "code",
      "source": [
        "my_set = {'market, market,shcool, house,house,room,room'} #create set\n",
        "print(my_set)"
      ],
      "metadata": {
        "colab": {
          "base_uri": "https://localhost:8080/"
        },
        "id": "p_HLwliRMAqI",
        "outputId": "1ee00fd2-e961-4d2f-d15f-63c4bb5232e5"
      },
      "execution_count": 14,
      "outputs": [
        {
          "output_type": "stream",
          "name": "stdout",
          "text": [
            "{'market, market,shcool, house,house,room,room'}\n"
          ]
        }
      ]
    },
    {
      "cell_type": "markdown",
      "source": [
        "2) Conditional statements"
      ],
      "metadata": {
        "id": "IPBKsjogOibO"
      }
    },
    {
      "cell_type": "markdown",
      "source": [
        "If..else..elif statement"
      ],
      "metadata": {
        "id": "g7bsxCuxLY0O"
      }
    },
    {
      "cell_type": "code",
      "source": [
        "# if statement example\n",
        "\n",
        "if 10 > 5:\n",
        "\n",
        "    print(\"20 greater than 10\")\n",
        "\n",
        "\n",
        "print(\"Program ended\")"
      ],
      "metadata": {
        "id": "7MEW9tRdNKwm",
        "colab": {
          "base_uri": "https://localhost:8080/"
        },
        "outputId": "baedaa52-23cc-46af-9d7c-41d1dd95090e"
      },
      "execution_count": 13,
      "outputs": [
        {
          "output_type": "stream",
          "name": "stdout",
          "text": [
            "20 greater than 10\n",
            "Program ended\n"
          ]
        }
      ]
    },
    {
      "cell_type": "code",
      "source": [
        "# if..else statement\n",
        "a = 4\n",
        "\n",
        "if a == 4:\n",
        "\n",
        "    print(\"Yes\")\n",
        "\n",
        "else:\n",
        "\n",
        "    print(\"No\")"
      ],
      "metadata": {
        "colab": {
          "base_uri": "https://localhost:8080/"
        },
        "id": "1tK8goqfOpjU",
        "outputId": "faff5c8c-7020-45d2-f254-616b9836e55c"
      },
      "execution_count": 18,
      "outputs": [
        {
          "output_type": "stream",
          "name": "stdout",
          "text": [
            "Yes\n"
          ]
        }
      ]
    },
    {
      "cell_type": "code",
      "source": [
        "#if..else..elif statement\n",
        "a = 4\n",
        "\n",
        "if a == 5:\n",
        "\n",
        "    print(\"Yes\")\n",
        "\n",
        "elif a== 5:\n",
        "\n",
        "     print(\"No\")\n",
        "\n",
        "else:\n",
        "\n",
        "     print(\"No\")"
      ],
      "metadata": {
        "id": "Hfke8bfGLjNQ",
        "outputId": "437b7d17-f8d6-478a-cf52-b55ccf0f7723",
        "colab": {
          "base_uri": "https://localhost:8080/"
        }
      },
      "execution_count": 11,
      "outputs": [
        {
          "output_type": "stream",
          "name": "stdout",
          "text": [
            "No\n"
          ]
        }
      ]
    },
    {
      "cell_type": "markdown",
      "source": [
        "3) Using Function"
      ],
      "metadata": {
        "id": "8SJ2A1l7M8eW"
      }
    },
    {
      "cell_type": "code",
      "source": [
        "def my_func():\n",
        "  print(\"Hello! Hope you're doing well\")"
      ],
      "metadata": {
        "id": "j9hiaRqvKgU5"
      },
      "execution_count": 9,
      "outputs": []
    },
    {
      "cell_type": "markdown",
      "source": [
        "*Function with argument"
      ],
      "metadata": {
        "id": "j89lLIb6O5by"
      }
    },
    {
      "cell_type": "code",
      "source": [
        "def my_func(name,place):\n",
        "  print(f\"assalam {name}! Are you from {place}?\")\n",
        "my_func(\"ushna\",\"dutse\")"
      ],
      "metadata": {
        "id": "2CvnpnYCFq2s",
        "outputId": "51aca388-3553-41ea-c544-72876d108f54",
        "colab": {
          "base_uri": "https://localhost:8080/"
        }
      },
      "execution_count": null,
      "outputs": [
        {
          "output_type": "stream",
          "name": "stdout",
          "text": [
            "assalam ushna! Are you from dutse?\n"
          ]
        }
      ]
    },
    {
      "cell_type": "markdown",
      "source": [
        "Function with two arguments"
      ],
      "metadata": {
        "id": "LqeXiKyTc1j5"
      }
    },
    {
      "cell_type": "code",
      "source": [
        "def add_numbers(num1, num2):\n",
        "    sum = num1 + num2\n",
        "    print(\"Sum: \", sum)\n",
        "\n",
        "# function call with two values\n",
        "add_numbers(5, 4)"
      ],
      "metadata": {
        "colab": {
          "base_uri": "https://localhost:8080/"
        },
        "id": "NOZC988vczKl",
        "outputId": "c9a13550-7193-4871-8802-ef2a54ca0855"
      },
      "execution_count": 8,
      "outputs": [
        {
          "output_type": "stream",
          "name": "stdout",
          "text": [
            "Sum:  9\n"
          ]
        }
      ]
    },
    {
      "cell_type": "code",
      "source": [
        "def get_even_numbers(numbers):\n",
        "    even_numbers = []\n",
        "    for number in numbers:\n",
        "        if number % 2 == 0:\n",
        "            even_numbers.append(number)\n",
        "    return even_numbers\n",
        "\n",
        "numbers = [1, 2, 3, 4, 5, 6, 7, 8, 9, 10]\n",
        "even_numbers = get_even_numbers(numbers)\n",
        "print(even_numbers)"
      ],
      "metadata": {
        "id": "g2nRO8pvZWuO",
        "outputId": "69764e53-04b6-4b19-cf4b-c8b180748eb0",
        "colab": {
          "base_uri": "https://localhost:8080/"
        }
      },
      "execution_count": 10,
      "outputs": [
        {
          "output_type": "stream",
          "name": "stdout",
          "text": [
            "[2, 4, 6, 8, 10]\n"
          ]
        }
      ]
    },
    {
      "cell_type": "code",
      "source": [
        " # function call\n",
        "\n",
        "def greet():\n",
        "    print('greeting!')\n",
        "\n",
        "# call the function\n",
        "greet()\n",
        "\n",
        "print('Good morning!')"
      ],
      "metadata": {
        "colab": {
          "base_uri": "https://localhost:8080/"
        },
        "id": "_b2zWfewb7Vj",
        "outputId": "d63f001a-6dec-4977-84b6-7aa5563be9a5"
      },
      "execution_count": 6,
      "outputs": [
        {
          "output_type": "stream",
          "name": "stdout",
          "text": [
            "greeting!\n",
            "Good morning!\n"
          ]
        }
      ]
    }
  ]
}