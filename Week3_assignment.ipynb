{
  "nbformat": 4,
  "nbformat_minor": 0,
  "metadata": {
    "colab": {
      "provenance": [],
      "toc_visible": true,
      "authorship_tag": "ABX9TyNTrlwXL51N9pXQ1pACxb4u",
      "include_colab_link": true
    },
    "kernelspec": {
      "name": "python3",
      "display_name": "Python 3"
    },
    "language_info": {
      "name": "python"
    }
  },
  "cells": [
    {
      "cell_type": "markdown",
      "metadata": {
        "id": "view-in-github",
        "colab_type": "text"
      },
      "source": [
        "<a href=\"https://colab.research.google.com/github/Ushna39/My-assignment-3mmt/blob/main/Week3_assignment.ipynb\" target=\"_parent\"><img src=\"https://colab.research.google.com/assets/colab-badge.svg\" alt=\"Open In Colab\"/></a>"
      ]
    },
    {
      "cell_type": "markdown",
      "source": [
        "Week3 assignment"
      ],
      "metadata": {
        "id": "yviVvpryFURU"
      }
    },
    {
      "cell_type": "code",
      "source": [
        "from google.colab import drive\n",
        "drive.mount('/content/drive')"
      ],
      "metadata": {
        "id": "QLXzfMpMYQ6d"
      },
      "execution_count": null,
      "outputs": []
    },
    {
      "cell_type": "markdown",
      "source": [
        "Q) Develop a python script that showcases basic learned, demonstrating your understanding python programming."
      ],
      "metadata": {
        "id": "0kPZ3FV_G2fM"
      }
    },
    {
      "cell_type": "code",
      "source": [
        "#write a code to to assigned a variable\n",
        "a=7\n",
        "b=59\n",
        "c= a+b\n",
        "print(c)"
      ],
      "metadata": {
        "colab": {
          "base_uri": "https://localhost:8080/"
        },
        "id": "CjSggy8qbtvf",
        "outputId": "10b24b7b-52a0-4b88-d802-c6b5dc4d64da"
      },
      "execution_count": null,
      "outputs": [
        {
          "output_type": "stream",
          "name": "stdout",
          "text": [
            "66\n"
          ]
        }
      ]
    },
    {
      "cell_type": "markdown",
      "source": [
        "# New Section"
      ],
      "metadata": {
        "id": "5DPZj88zYiYY"
      }
    },
    {
      "cell_type": "code",
      "source": [
        "\n",
        "\n",
        "#wrte a variable that show 2 variables\n",
        "sur_name=\"muhammad\"\n",
        "first_name=\"ushna\"\n",
        "full_name=sur_name+first_name\n",
        "print(full_name)"
      ],
      "metadata": {
        "colab": {
          "base_uri": "https://localhost:8080/"
        },
        "id": "wrJP73bWdPam",
        "outputId": "e5aa2011-95c7-424b-d4fe-7a3736ed4e9e"
      },
      "execution_count": null,
      "outputs": [
        {
          "output_type": "stream",
          "name": "stdout",
          "text": [
            "muhammadushna\n"
          ]
        }
      ]
    },
    {
      "cell_type": "markdown",
      "source": [
        "Displaying the data types of the variables"
      ],
      "metadata": {
        "id": "MPTHzy-3eQ00"
      }
    },
    {
      "cell_type": "code",
      "source": [
        "print (type('c'))"
      ],
      "metadata": {
        "colab": {
          "base_uri": "https://localhost:8080/"
        },
        "id": "RA87uS_qSB_t",
        "outputId": "03426b9f-64bc-43bd-fccf-4f91acdb9348"
      },
      "execution_count": null,
      "outputs": [
        {
          "output_type": "stream",
          "name": "stdout",
          "text": [
            "<class 'str'>\n"
          ]
        }
      ]
    },
    {
      "cell_type": "code",
      "source": [
        "print (type (full_name))"
      ],
      "metadata": {
        "colab": {
          "base_uri": "https://localhost:8080/"
        },
        "id": "wtuvUEX8e_23",
        "outputId": "b4ada0e6-d672-49d4-9370-bafccc78ca06"
      },
      "execution_count": null,
      "outputs": [
        {
          "output_type": "stream",
          "name": "stdout",
          "text": [
            "<class 'str'>\n"
          ]
        }
      ]
    },
    {
      "cell_type": "markdown",
      "source": [
        "Displaying 2 different strings"
      ],
      "metadata": {
        "id": "SMPWufmCfW4D"
      }
    },
    {
      "cell_type": "code",
      "source": [
        "#write a variable to display 2 different strings\n",
        "name =\"ushna\"\n",
        "address=\"takursite\"\n",
        "biodata=(f'{name} {address}')\n",
        "print (biodata)"
      ],
      "metadata": {
        "colab": {
          "base_uri": "https://localhost:8080/"
        },
        "id": "oHhNoK6ffdvf",
        "outputId": "80310936-5fc9-47a6-d017-5185eee1ea3e"
      },
      "execution_count": null,
      "outputs": [
        {
          "output_type": "stream",
          "name": "stdout",
          "text": [
            "ushna takursite\n"
          ]
        }
      ]
    },
    {
      "cell_type": "code",
      "source": [
        "#write a program to input two numbers and display greater number\n",
        "a=int(input(\"25:,\"))\n",
        "b=int(input(\"6:,\"))\n",
        "c=int(input(\"5:,\"))\n",
        "if(a>b and a>c):\n",
        "   print(a,\"is greater\")"
      ],
      "metadata": {
        "id": "sDnuQj-hXyN4"
      },
      "execution_count": null,
      "outputs": []
    }
  ]
}