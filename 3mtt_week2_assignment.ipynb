{
  "nbformat": 4,
  "nbformat_minor": 0,
  "metadata": {
    "colab": {
      "provenance": [],
      "authorship_tag": "ABX9TyNNL+XAUIprzGUjunUETCFH",
      "include_colab_link": true
    },
    "kernelspec": {
      "name": "python3",
      "display_name": "Python 3"
    },
    "language_info": {
      "name": "python"
    }
  },
  "cells": [
    {
      "cell_type": "markdown",
      "metadata": {
        "id": "view-in-github",
        "colab_type": "text"
      },
      "source": [
        "<a href=\"https://colab.research.google.com/github/Ushna39/my-assignment-3mtt/blob/main/3mtt_week2_assignment.ipynb\" target=\"_parent\"><img src=\"https://colab.research.google.com/assets/colab-badge.svg\" alt=\"Open In Colab\"/></a>"
      ]
    },
    {
      "cell_type": "code",
      "source": [],
      "metadata": {
        "id": "Q6o6INrWIfgn"
      },
      "execution_count": null,
      "outputs": []
    },
    {
      "cell_type": "markdown",
      "source": [],
      "metadata": {
        "id": "x3BqMs5JKgpb"
      }
    },
    {
      "cell_type": "markdown",
      "source": [
        "Analyze asmall dataset using python, documenting the step by step process of the data analysis journey\n",
        "\n",
        "1. Import the library"
      ],
      "metadata": {
        "id": "U9J3PDHeXAbT"
      }
    },
    {
      "cell_type": "code",
      "source": [
        "  ##importing a pandas library\n",
        "  import pandas as pd"
      ],
      "metadata": {
        "id": "KqVoDGvKiZ8i"
      },
      "execution_count": null,
      "outputs": []
    },
    {
      "cell_type": "markdown",
      "source": [
        "2.uploading the dataset"
      ],
      "metadata": {
        "id": "QDB9eNJkkOGh"
      }
    },
    {
      "cell_type": "code",
      "source": [
        "##Uploading a dataset\n",
        "User = pd.read_excel(\"/Content/sample_ Dataset.cvs\"3mtt\")"
      ],
      "metadata": {
        "id": "XvGuz6fwkaIw"
      },
      "execution_count": null,
      "outputs": []
    },
    {
      "cell_type": "markdown",
      "source": [
        "3. Display the sample of dataset"
      ],
      "metadata": {
        "id": "6qwYTbcElglH"
      }
    },
    {
      "cell_type": "code",
      "source": [
        "  #printing the sample of dataset\n",
        "  Print_ (user)"
      ],
      "metadata": {
        "id": "vZv8yGvqlyRv"
      },
      "execution_count": null,
      "outputs": []
    },
    {
      "cell_type": "markdown",
      "source": [
        "\n",
        "     Names of jss3 students   gender   age    \n",
        "S/N          \n",
        "\n",
        "0       Rahma usman                F       14\n",
        "\n",
        "1    Abdullahi Ada              M       15\n",
        "3    Khadija Abu                F       13\n",
        "4    Muhsin kabir               M       15\n",
        "5    Ahmad Ashiru               M       16\n",
        "6    Khadija Mansur             M       14"
      ],
      "metadata": {
        "id": "N8UnMNBICqNs"
      }
    },
    {
      "cell_type": "code",
      "source": [],
      "metadata": {
        "id": "GfYuPLlWHKPw"
      },
      "execution_count": null,
      "outputs": []
    }
  ]
}